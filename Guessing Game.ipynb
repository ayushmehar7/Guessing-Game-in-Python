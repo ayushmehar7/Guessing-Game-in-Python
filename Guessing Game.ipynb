{
 "cells": [
  {
   "cell_type": "raw",
   "metadata": {},
   "source": [
    "GUESSING GAME:\n",
    "    I'm going to store a random number ,you have to guess it.\n",
    "    If you're closer than 10 , I'll say WARM.\n",
    "    If you're farther than 10 I'll say COLD.\n",
    "    Let's PLAY!!"
   ]
  },
  {
   "cell_type": "code",
   "execution_count": null,
   "metadata": {},
   "outputs": [],
   "source": [
    "from random import randint\n",
    "random_number= randint(1,100)"
   ]
  },
  {
   "cell_type": "code",
   "execution_count": null,
   "metadata": {},
   "outputs": [],
   "source": [
    "a = True\n",
    "guess_list =[]"
   ]
  },
  {
   "cell_type": "code",
   "execution_count": null,
   "metadata": {},
   "outputs": [],
   "source": [
    "while a:\n",
    "    n = int(input(\"Please enter your guess :\"))\n",
    "    \n",
    "    \n",
    "    if n!=random_number:\n",
    "        guess_list.append(n)\n",
    "        \n",
    "    \n",
    "    if n == random_number:\n",
    "        \n",
    "        print(\"Finally ,you guessed it right!! in {} guessess\".format(len(guess_list)+1))\n",
    "        \n",
    "        a =False\n",
    "    \n",
    "    elif abs(random_number-n in range(1,11)):\n",
    "        \n",
    "        print(\"WARM!!\")\n",
    "        \n",
    "        \n",
    "    else:\n",
    "        \n",
    "        print(\"COLD!!\")\n",
    "        "
   ]
  }
 ],
 "metadata": {
  "kernelspec": {
   "display_name": "Python 3",
   "language": "python",
   "name": "python3"
  },
  "language_info": {
   "codemirror_mode": {
    "name": "ipython",
    "version": 3
   },
   "file_extension": ".py",
   "mimetype": "text/x-python",
   "name": "python",
   "nbconvert_exporter": "python",
   "pygments_lexer": "ipython3",
   "version": "3.7.3"
  }
 },
 "nbformat": 4,
 "nbformat_minor": 2
}
